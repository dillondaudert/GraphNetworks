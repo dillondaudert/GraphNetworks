{
 "cells": [
  {
   "cell_type": "markdown",
   "metadata": {},
   "source": [
    "# Graph Network Block\n",
    "This is a simple implementation of the graph network block proposed in [Rational inductive biases, deep learning, and graph networks. Battaglia *et al*, 2018.](https://arxiv.org/pdf/1806.01261.pdf)\n",
    "\n",
    "## Definitions\n",
    "A \"graph\" is defined as a directed, attributed multi-graph with a global attribute.\n",
    "  - A node is denoted $\\mathbf{v}_i$\n",
    "  - An edge is denoted $\\mathbf{e}_k$\n",
    "  - The global attribute is $\\mathbf{u}$\n",
    "  - $s_k$ and $r_k$ indicate the indices of the sender and receiver nodes.\n",
    "  \n",
    "![multigraph](./multigraph.png)"
   ]
  },
  {
   "cell_type": "markdown",
   "metadata": {},
   "source": [
    "A *graph* is a 3-tuple $G = (\\mathbf{u}, V, E)$. The $\\mathbf{u}$ is the global attribute, $V = \\{\\mathbf{u}_i\\}_{i=1:N_v}$ is the set of vertices, $E = \\{(\\mathbf{e}_k, r_k, s_k)\\}_{k=1:N_e}$.\n",
    "\n",
    "## Internal Structures\n",
    "A GN block contains 3 updates functions, $\\phi$,\n",
    "$$\n",
    "\\begin{align}\n",
    "\\mathbf{e\\prime}_k & = \\phi^e(\\mathbf{e}_k, \\mathbf{v}_{r_k}, \\mathbf{v}_{s_k}, \\mathbf{u})\n",
    "\\\\\n",
    "\\mathbf{v\\prime}_i & = \\phi^v(\\mathbf{\\bar e\\prime}_i, \\mathbf{v}_i, \\mathbf{u})\n",
    "\\\\\n",
    "\\mathbf{u\\prime} & = \\phi^u(\\mathbf{\\bar e\\prime}, \\mathbf{\\bar v\\prime}, \\mathbf{u})\n",
    "\\end{align}\n",
    "$$\n",
    "and 3 aggregation functions, $\\rho$,\n",
    "$$\n",
    "\\begin{align}\n",
    "\\mathbf{\\bar e\\prime}_i & = \\rho^{e \\rightarrow v}(E\\prime_i) \\\\\n",
    "\\mathbf{\\bar e\\prime} & = \\rho^{e \\rightarrow u}(E\\prime) \\\\\n",
    "\\mathbf{\\bar v\\prime} & = \\rho^{v \\rightarrow u}(V\\prime) \\\\\n",
    "\\end{align}\n",
    "$$\n",
    "where $E\\prime_i = \\{(e\\prime_k, r_k, s_k)\\}_{r_k=i,k=1:N_e}$, $V\\prime = \\{v\\prime_i\\}_{i=1:N_v}$, and $E\\prime = \\cup_iE\\prime_i = \\{(e\\prime_k, r_k, s_k)\\}_{k=1:N_e}$.\n",
    "\n",
    "$\\phi^e$ is mapped across all edges, $\\phi^v$ is mapped across all nodes, and $\\phi^u$ is applied once as a global update. The $\\rho$ functions all take a set as input and reduce it to a single element which represents the aggregate information. The $\\rho$ functions must be invariant to permutations of their inputs, and should take a variable number of arguments."
   ]
  },
  {
   "cell_type": "code",
   "execution_count": 1,
   "metadata": {},
   "outputs": [],
   "source": [
    "using Flux\n",
    "using Flux.Tracker"
   ]
  },
  {
   "cell_type": "code",
   "execution_count": 2,
   "metadata": {},
   "outputs": [
    {
     "data": {
      "text/plain": [
       "mapchildren (generic function with 7 methods)"
      ]
     },
     "execution_count": 2,
     "metadata": {},
     "output_type": "execute_result"
    }
   ],
   "source": [
    "struct GN\n",
    "    edge_units\n",
    "    node_units\n",
    "    global_units\n",
    "    Wₑ\n",
    "    bₑ\n",
    "    Wᵥ\n",
    "    bᵥ\n",
    "    Wᵤ\n",
    "    bᵤ\n",
    "end\n",
    "# Create the variables for the Graph Network block\n",
    "GN(edge_units, node_units, global_units) = GN(edge_units, node_units, global_units,\n",
    "                                              param(randn(edge_units, edge_units+2*node_units+global_units)), \n",
    "                                              param(zeros(edge_units)), \n",
    "                                              param(randn(node_units, edge_units+node_units+global_units)), \n",
    "                                              param(zeros(node_units)),\n",
    "                                              param(randn(global_units, edge_units+node_units+global_units)), \n",
    "                                              param(zeros(global_units)))\n",
    "\"\"\"\n",
    "graph network block\n",
    "E is an array of triples=(i, j, e) indicates the \n",
    "    indicates for the sender, receiver nodes for\n",
    "    an edge, and the edge attributes\n",
    "V is an array [[values]] where each element i\n",
    "    of the array representes the attributes for\n",
    "    node i.\n",
    "u is an array of attributes.\n",
    "\"\"\"\n",
    "function (g::GN)(x)\n",
    "    E, V, u = x\n",
    "    # compute edge updates\n",
    "    E′ = [(i, j, ϕᵉ(g, eₖ, V[i], V[j], u)) for (i, j, eₖ) in E]\n",
    "    # aggregate per-node edge attributes\n",
    "    ēᵛ = ρᵛ(E′, V)\n",
    "    # compute node updates\n",
    "    V′ = vcat([ϕᵛ(g, V[i], ēᵛ[i], u) for i in 1:size(V)[1]])\n",
    "    # aggregate edge attributes\n",
    "    ē = ρᵉ(E′)\n",
    "    # aggregate node attributes\n",
    "    v̄ = ρᵘ(V′)\n",
    "    # compute updated global attribute\n",
    "    u′ = ϕᵘ(g, ē, v̄, u)\n",
    "    return (E′, V′, u′)\n",
    "end\n",
    "Flux.treelike(GN)"
   ]
  },
  {
   "cell_type": "code",
   "execution_count": 3,
   "metadata": {},
   "outputs": [
    {
     "data": {
      "text/plain": [
       "ϕᵉ"
      ]
     },
     "execution_count": 3,
     "metadata": {},
     "output_type": "execute_result"
    }
   ],
   "source": [
    "\"\"\"\n",
    "Update an edge\n",
    "\"\"\"\n",
    "function ϕᵉ(g::GN, eₖ, v₁, v₂, u) \n",
    "    x = vcat(eₖ, vcat(v₁, vcat(v₂, u)))\n",
    "    eₖ′ = g.Wₑ * x + g.bₑ\n",
    "    return eₖ′\n",
    "end"
   ]
  },
  {
   "cell_type": "code",
   "execution_count": 4,
   "metadata": {},
   "outputs": [
    {
     "data": {
      "text/plain": [
       "ϕᵛ"
      ]
     },
     "execution_count": 4,
     "metadata": {},
     "output_type": "execute_result"
    }
   ],
   "source": [
    "\"\"\"\n",
    "Update the nodes.\n",
    "\"\"\"\n",
    "function ϕᵛ(g::GN, vᵢ, ēᵢ, u)\n",
    "    x = vcat(vᵢ, vcat(ēᵢ, u))\n",
    "    vᵢ′ = g.Wᵥ * x + g.bᵥ\n",
    "    return vᵢ′\n",
    "end"
   ]
  },
  {
   "cell_type": "code",
   "execution_count": 5,
   "metadata": {},
   "outputs": [
    {
     "data": {
      "text/plain": [
       "ϕᵘ"
      ]
     },
     "execution_count": 5,
     "metadata": {},
     "output_type": "execute_result"
    }
   ],
   "source": [
    "\"\"\"\n",
    "Update the global state attribute.\n",
    "\"\"\"\n",
    "function ϕᵘ(g::GN, ē, v̄, u)\n",
    "    x = vcat(ē, vcat(v̄, u))\n",
    "    u′ = g.Wᵤ * x + g.bᵤ\n",
    "    return u′\n",
    "end"
   ]
  },
  {
   "cell_type": "code",
   "execution_count": 6,
   "metadata": {},
   "outputs": [
    {
     "data": {
      "text/plain": [
       "true"
      ]
     },
     "execution_count": 6,
     "metadata": {},
     "output_type": "execute_result"
    }
   ],
   "source": [
    "\"\"\"\n",
    "Aggregate edge attributes for each node.\n",
    "\"\"\"\n",
    "function ρᵛ(E′, V)\n",
    "    # outer loop: each target node j\n",
    "    # inner loop: sum incoming edges (i, j) for j\n",
    "    ēᵛ = [reduce(+, zeros(E′[1][3]), eₖ for (i, j_, eₖ) in E′ if j_ == j) for j in 1:size(V, 1)]\n",
    "    return ēᵛ\n",
    "end\n",
    "# test ρᵛ\n",
    "V = [[0.], [0.]]\n",
    "E = [(1, 2, [5., 0.]), (2, 2, [3., 0.])]\n",
    "ēᵛ = [[0., 0.], [8., 0.]]\n",
    "out = ρᵛ(E, V)\n",
    "out == ēᵛ"
   ]
  },
  {
   "cell_type": "code",
   "execution_count": 7,
   "metadata": {},
   "outputs": [
    {
     "data": {
      "text/plain": [
       "true"
      ]
     },
     "execution_count": 7,
     "metadata": {},
     "output_type": "execute_result"
    }
   ],
   "source": [
    "\"\"\"\n",
    "Aggregate the edge attributes globally.\n",
    "\"\"\"\n",
    "function ρᵉ(E′)\n",
    "    # ex: calculate the mean of all edges\n",
    "    return mean((e[3] for e in E′))\n",
    "end\n",
    "# test ρᵉ\n",
    "E = [(1, 2, [5., -2.]), (2, 2, [3., -2.])]\n",
    "ē = [4., -2.]\n",
    "out = ρᵉ(E)\n",
    "all(ē .== out)"
   ]
  },
  {
   "cell_type": "code",
   "execution_count": 8,
   "metadata": {},
   "outputs": [
    {
     "data": {
      "text/plain": [
       "true"
      ]
     },
     "execution_count": 8,
     "metadata": {},
     "output_type": "execute_result"
    }
   ],
   "source": [
    "\"\"\"\n",
    "Aggregate all the node attributes globally.\n",
    "\"\"\"\n",
    "function ρᵘ(V′)\n",
    "    # ex: sum all the attributes of the nodes\n",
    "    return sum((V′[i] for i = 1:size(V′, 1)))\n",
    "end\n",
    "# test ρᵘ\n",
    "V = [[0., 10., 3.], [0., -2., -3.]]\n",
    "v̄= [0., 8., 0.]\n",
    "out = ρᵘ(V)\n",
    "all(v̄ .== out)"
   ]
  },
  {
   "cell_type": "code",
   "execution_count": 9,
   "metadata": {},
   "outputs": [
    {
     "data": {
      "text/plain": [
       "loss (generic function with 1 method)"
      ]
     },
     "execution_count": 9,
     "metadata": {},
     "output_type": "execute_result"
    }
   ],
   "source": [
    "\"\"\"\n",
    "Calculate the loss for a graph.\n",
    "\"\"\"\n",
    "function piecewise_loss(g::GN, x, y)\n",
    "    (Ê, V̂, û) = g(x)\n",
    "    E, V, u = y\n",
    "    # edge loss\n",
    "    Lₑ = sum((E[i][3] .- Ê[i][3]).^2 for i in 1:size(E, 1))\n",
    "    Lᵥ = sum((V[i] .- V̂[i]).^2 for i in 1:size(V, 1))\n",
    "    Lᵤ = sum((u .- û).^2)\n",
    "    return Lₑ, Lᵥ, Lᵤ\n",
    "end\n",
    "function loss(g::GN, x, y)\n",
    "    Lₑ, Lᵥ, Lᵤ = piecewise_loss(g, x, y)\n",
    "    return sum(Lₑ) + sum(Lᵥ) + sum(Lᵤ)\n",
    "end\n"
   ]
  },
  {
   "cell_type": "code",
   "execution_count": 10,
   "metadata": {},
   "outputs": [
    {
     "data": {
      "text/plain": [
       "((Tuple{Int64,Int64,Array{Float32,1}}[(1, 3, Float32[-0.6799, 0.56471]), (2, 3, Float32[0.611156, 0.907565])], Array{Float64,1}[[0.0], [16.0], [0.0]], [0.0]), (Tuple{Int64,Int64,Array{Float32,1}}[(1, 3, Float32[-0.6799, 0.56471]), (2, 3, Float32[0.611156, 0.907565])], Array{Float64,1}[[0.0], [16.0], [11.2508]], Float32[11.2508]))"
      ]
     },
     "execution_count": 10,
     "metadata": {},
     "output_type": "execute_result"
    }
   ],
   "source": [
    "\"\"\"\n",
    "Generate simple synthetic graphs \n",
    "\"\"\"\n",
    "function gen_data()\n",
    "    \n",
    "    n1, n2 = rand(-20:20), rand(-20:20)\n",
    "    e1, e2 = rand(Float32, 2)*2-1, rand(Float32, 2)*2-1\n",
    "    n3 = (n1*e1[1] + e1[2]) + (n2*e2[1] + e2[2])\n",
    "    \n",
    "    Vₓ = [[float(n1)], [float(n2)], [zero(Float32)]]\n",
    "    Eₓ = [(1, 3, e1), (2, 3, e2)]\n",
    "    uₓ = [0.]\n",
    "    \n",
    "    Vₜ = [[float(n1)], [float(n2)], [float(n3)]]\n",
    "    Eₜ = Eₓ\n",
    "    uₜ = [float(n3)]\n",
    "    \n",
    "    return (Eₓ, Vₓ, uₓ), (Eₜ, Vₜ, uₜ)    \n",
    "end\n",
    "gen_data()"
   ]
  },
  {
   "cell_type": "code",
   "execution_count": 11,
   "metadata": {},
   "outputs": [
    {
     "name": "stderr",
     "output_type": "stream",
     "text": [
      "WARNING: Base.repeated is deprecated, use Base.Iterators.repeated instead.\n",
      "  likely near In[11]:13\n"
     ]
    },
    {
     "data": {
      "text/plain": [
       "(::#58) (generic function with 1 method)"
      ]
     },
     "execution_count": 11,
     "metadata": {},
     "output_type": "execute_result"
    }
   ],
   "source": [
    "V = [[3.,], [-5.,], [0.,]]\n",
    "E = [(1, 3, [1., 0.]), (2, 3, [-2., -1.])]\n",
    "u = [0.]\n",
    "x = (E, V, u)\n",
    "\n",
    "V′= [[3.], [-5.], [12.]]\n",
    "E′ = [(1, 3, [1., 0.]), (2, 3, [-2., -1.])]\n",
    "u′ = [12.,]\n",
    "y = (E′, V′, u′)\n",
    "\n",
    "g = GN(2, 1, 1)\n",
    "\n",
    "dataset = repeated((x, y), 20000)\n",
    "evalcb = () -> @show(piecewise_loss(g, x, y))\n",
    "opt = ADAM(params(g))"
   ]
  },
  {
   "cell_type": "code",
   "execution_count": 12,
   "metadata": {},
   "outputs": [
    {
     "name": "stdout",
     "output_type": "stream",
     "text": [
      "piecewise_loss(g, gen_data()...) = (param([1299.34, 689.549]), param([95.8415]), param(7055.79))\n"
     ]
    },
    {
     "name": "stderr",
     "output_type": "stream",
     "text": [
      "WARNING: Base.repeated is deprecated, use "
     ]
    },
    {
     "data": {
      "text/plain": [
       "(::#27) (generic function with 1 method)"
      ]
     },
     "execution_count": 12,
     "metadata": {},
     "output_type": "execute_result"
    }
   ],
   "source": [
    "@show piecewise_loss(g, gen_data()...)\n",
    "dataset = repeated(gen_data(), 50000)\n",
    "evalcb = () -> @show loss(g, x, y)"
   ]
  },
  {
   "cell_type": "code",
   "execution_count": 20,
   "metadata": {},
   "outputs": [
    {
     "name": "stdout",
     "output_type": "stream",
     "text": [
      "loss(g, x, y) = param(783.092)\n",
      "loss(g, x, y) = param(782.901)\n",
      "loss(g, x, y) = param(782.615)\n",
      "loss(g, x, y) = param(782.334)\n",
      "loss(g, x, y) = param(782.179)\n",
      "loss(g, x, y) = param(781.776)\n",
      "loss(g, x, y) = param(781.534)\n",
      "loss(g, x, y) = param(781.211)\n",
      "loss(g, x, y) = param(780.885)\n",
      "loss(g, x, y) = param(780.615)\n",
      "loss(g, x, y) = param(780.356)\n",
      "loss(g, x, y) = param(780.037)\n",
      "loss(g, x, y) = param(779.816)\n",
      "loss(g, x, y) = param(779.557)\n",
      "loss(g, x, y) = param(779.148)\n",
      "loss(g, x, y) = param(778.983)\n",
      "loss(g, x, y) = param(779.011)\n",
      "loss(g, x, y) = param(778.171)\n",
      "loss(g, x, y) = param(778.15)\n",
      "loss(g, x, y) = param(777.866)\n",
      "loss(g, x, y) = param(777.654)\n",
      "loss(g, x, y) = param(777.298)\n",
      "loss(g, x, y) = param(777.057)\n",
      "loss(g, x, y) = param(776.791)\n",
      "loss(g, x, y) = param(776.515)\n",
      "loss(g, x, y) = param(776.29)\n",
      "loss(g, x, y) = param(775.904)\n",
      "loss(g, x, y) = param(775.674)\n",
      "loss(g, x, y) = param(775.423)\n",
      "loss(g, x, y) = param(775.099)\n",
      "loss(g, x, y) = param(774.889)\n",
      "loss(g, x, y) = param(774.588)\n",
      "loss(g, x, y) = param(774.319)\n",
      "loss(g, x, y) = param(774.085)\n",
      "loss(g, x, y) = param(773.788)\n",
      "loss(g, x, y) = param(773.488)\n",
      "loss(g, x, y) = param(773.218)\n",
      "loss(g, x, y) = param(772.929)\n",
      "loss(g, x, y) = param(772.651)\n",
      "loss(g, x, y) = param(772.434)\n",
      "loss(g, x, y) = param(772.186)\n",
      "loss(g, x, y) = param(771.844)\n",
      "loss(g, x, y) = param(771.609)\n",
      "loss(g, x, y) = param(771.344)\n",
      "loss(g, x, y) = param(771.923)\n",
      "loss(g, x, y) = param(770.685)\n",
      "loss(g, x, y) = param(770.451)\n",
      "loss(g, x, y) = param(770.216)\n",
      "loss(g, x, y) = param(769.991)\n",
      "loss(g, x, y) = param(769.669)\n",
      "loss(g, x, y) = param(769.399)\n",
      "loss(g, x, y) = param(769.184)\n",
      "loss(g, x, y) = param(768.676)\n"
     ]
    }
   ],
   "source": [
    "Flux.train!((x, y) -> loss(g, x, y), dataset, opt, cb=Flux.throttle(evalcb, .5))"
   ]
  },
  {
   "cell_type": "code",
   "execution_count": 19,
   "metadata": {},
   "outputs": [
    {
     "name": "stdout",
     "output_type": "stream",
     "text": [
      "Any[param([1.13876 1.88894 -0.0485112 -0.483028 1.41985; -2.46764 -1.96162 0.106373 -1.17107 -0.298738]), param([0.0089207, -0.825596]), param([1.0 -9.81669 1.47196 1.2392]), param([3.34748e-7]), param([-4.94778 -0.0147858 0.205698 0.565071]), param([3.6433])]"
     ]
    }
   ],
   "source": [
    "print(params(g))"
   ]
  },
  {
   "cell_type": "code",
   "execution_count": 17,
   "metadata": {},
   "outputs": [
    {
     "name": "stdout",
     "output_type": "stream",
     "text": [
      "(x, y) = gen_data() = ((Tuple{Int64,Int64,Array{Float32,1}}[(1, 3, Float32[0.24423, 0.42264]), (2, 3, Float32[-0.112241, 0.946124])], Array{Float64,1}[[-12.0], [17.0], [0.0]], [0.0]), (Tuple{Int64,Int64,Array{Float32,1}}[(1, 3, Float32[0.24423, 0.42264]), (2, 3, Float32[-0.112241, 0.946124])], Array{Float64,1}[[-12.0], [17.0], [-3.4701]], Float32[-3.4701]))\n",
      "(Tuple{Int64,Int64,TrackedArray{…,Array{Float64,1}}}[(1, 3, param([1.66752, -3.53381])), (2, 3, param([0.843587, -0.596213]))], TrackedArray{…,Array{Float64,1}}[param([-12.0]), param([17.0]), param([-30.9646])], param([-8.03855]))"
     ]
    }
   ],
   "source": [
    "@show x, y = gen_data()\n",
    "print(g(x))"
   ]
  },
  {
   "cell_type": "code",
   "execution_count": 16,
   "metadata": {},
   "outputs": [
    {
     "data": {
      "text/plain": [
       "0.9299999999999994"
      ]
     },
     "execution_count": 16,
     "metadata": {},
     "output_type": "execute_result"
    }
   ],
   "source": []
  },
  {
   "cell_type": "code",
   "execution_count": null,
   "metadata": {},
   "outputs": [],
   "source": []
  }
 ],
 "metadata": {
  "kernelspec": {
   "display_name": "Julia 0.6.1",
   "language": "julia",
   "name": "julia-0.6"
  },
  "language_info": {
   "file_extension": ".jl",
   "mimetype": "application/julia",
   "name": "julia",
   "version": "0.6.1"
  }
 },
 "nbformat": 4,
 "nbformat_minor": 2
}
