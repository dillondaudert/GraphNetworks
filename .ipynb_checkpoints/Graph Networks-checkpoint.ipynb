{
 "cells": [
  {
   "cell_type": "markdown",
   "metadata": {},
   "source": [
    "# Graph Network Block\n",
    "This is a simple implementation of the graph network block proposed in [Rational inductive biases, deep learning, and graph networks. Battaglia *et al*, 2018.](https://arxiv.org/pdf/1806.01261.pdf)\n",
    "\n",
    "## Definitions\n",
    "A \"graph\" is defined as a directed, attributed multi-graph with a global attribute.\n",
    "  - A node is denoted $\\mathbf{v}_i$\n",
    "  - An edge is denoted $\\mathbf{e}_k$\n",
    "  - The global attribute is $\\mathbf{u}$\n",
    "  - $s_k$ and $r_k$ indicate the indices of the sender and receiver nodes.\n",
    "  \n",
    "![multigraph](./multigraph.png)"
   ]
  },
  {
   "cell_type": "markdown",
   "metadata": {},
   "source": [
    "A *graph* is a 3-tuple $G = (\\mathbf{u}, V, E)$. The $\\mathbf{u}$ is the global attribute, $V = \\{\\mathbf{u}_i\\}_{i=1:N_v}$ is the set of vertices, $E = \\{(\\mathbf{e}_k, r_k, s_k)\\}_{k=1:N_e}$.\n",
    "\n",
    "## Internal Structures\n",
    "A GN block contains 3 updates functions, $\\phi$,\n",
    "$$\n",
    "\\begin{align}\n",
    "\\mathbf{e\\prime}_k & = \\phi^e(\\mathbf{e}_k, \\mathbf{v}_{r_k}, \\mathbf{v}_{s_k}, \\mathbf{u})\n",
    "\\\\\n",
    "\\mathbf{v\\prime}_i & = \\phi^v(\\mathbf{\\bar e\\prime}_i, \\mathbf{v}_i, \\mathbf{u})\n",
    "\\\\\n",
    "\\mathbf{u\\prime} & = \\phi^u(\\mathbf{\\bar e\\prime}, \\mathbf{\\bar v\\prime}, \\mathbf{u})\n",
    "\\end{align}\n",
    "$$\n",
    "and 3 aggregation functions, $\\rho$,\n",
    "$$\n",
    "\\begin{align}\n",
    "\\mathbf{\\bar e\\prime}_i & = \\rho^{e \\rightarrow v}(E\\prime_i) \\\\\n",
    "\\mathbf{\\bar e\\prime} & = \\rho^{e \\rightarrow u}(E\\prime) \\\\\n",
    "\\mathbf{\\bar v\\prime} & = \\rho^{v \\rightarrow u}(V\\prime) \\\\\n",
    "\\end{align}\n",
    "$$\n",
    "where $E\\prime_i = \\{(e\\prime_k, r_k, s_k)\\}_{r_k=i,k=1:N_e}$, $V\\prime = \\{v\\prime_i\\}_{i=1:N_v}$, and $E\\prime = \\cup_iE\\prime_i = \\{(e\\prime_k, r_k, s_k)\\}_{k=1:N_e}$.\n",
    "\n",
    "$\\phi^e$ is mapped across all edges, $\\phi^v$ is mapped across all nodes, and $\\phi^u$ is applied once as a global update. The $\\rho$ functions all take a set as input and reduce it to a single element which represents the aggregate information. The $\\rho$ functions must be invariant to permutations of their inputs, and should take a variable number of arguments."
   ]
  },
  {
   "cell_type": "code",
   "execution_count": 6,
   "metadata": {},
   "outputs": [
    {
     "data": {
      "text/plain": [
       "GraphNetwork"
      ]
     },
     "execution_count": 6,
     "metadata": {},
     "output_type": "execute_result"
    }
   ],
   "source": [
    "\"\"\"\n",
    "graph network block\n",
    "E is a dictionary where key=(i, j) indicates the \n",
    "    indicates for the sender, receiver nodes for\n",
    "    an edge, and the value=Array is an array of\n",
    "    attributes.\n",
    "V is an array [[values]] where each element i\n",
    "    of the array representes the attributes for\n",
    "    node i.\n",
    "u is an array of attributes.\n",
    "\"\"\"\n",
    "function GraphNetwork(E, V, u)\n",
    "    # compute edge updates\n",
    "    E′ = Dict(((i, j)=>ϕᵉ(E[(i, j)], V[i], V[j], u) for (i, j) in keys(E)))\n",
    "    # aggregate per-node edge attributes\n",
    "    ēᵛ = ρᵛ(E′, V)\n",
    "    # compute node updates\n",
    "    V′ = [ϕᵛ(V[i],, ēᵛ[i] u) for i in 1:length(V)]\n",
    "    \n",
    "    # aggregate edge attributes\n",
    "    ē = ρᵉ(E′)\n",
    "    # aggregate node attributes\n",
    "    v̄ = ρᵘ(V′)\n",
    "    # compute updated global attribute\n",
    "    u′ = ϕᵘ(ē, v̄, u)\n",
    "    \n",
    "    return (E′, V′, u′)\n",
    "end"
   ]
  },
  {
   "cell_type": "code",
   "execution_count": 7,
   "metadata": {},
   "outputs": [
    {
     "data": {
      "text/plain": [
       "ϕᵉ"
      ]
     },
     "execution_count": 7,
     "metadata": {},
     "output_type": "execute_result"
    }
   ],
   "source": [
    "\"\"\"\n",
    "Update an edge.\n",
    "\"\"\"\n",
    "function ϕᵉ(eₖ, v₁, v₂, u)\n",
    "    # ex: if the inputs are all vectors,\n",
    "    #     concatenate and use a DNN.\n",
    "    # TODO\n",
    "    return eₖ\n",
    "end"
   ]
  },
  {
   "cell_type": "code",
   "execution_count": 8,
   "metadata": {},
   "outputs": [
    {
     "data": {
      "text/plain": [
       "ρᵛ"
      ]
     },
     "execution_count": 8,
     "metadata": {},
     "output_type": "execute_result"
    }
   ],
   "source": [
    "\"\"\"\n",
    "Aggregate edge attributes for each node.\n",
    "\"\"\"\n",
    "function ρᵛ(E′, V)\n",
    "    # ex: calculate the mean of\n",
    "    #     the edges going TO each node i\n",
    "    ēᵛ = zeros(length(V), length(collect(values(E′))[1]))\n",
    "    for (i, j) in keys(E′)\n",
    "        ēᵛ[j] += E′[(i, j)]\n",
    "    end\n",
    "    return ēᵛ\n",
    "end"
   ]
  },
  {
   "cell_type": "code",
   "execution_count": 9,
   "metadata": {},
   "outputs": [
    {
     "data": {
      "text/plain": [
       "ϕᵛ"
      ]
     },
     "execution_count": 9,
     "metadata": {},
     "output_type": "execute_result"
    }
   ],
   "source": [
    "\"\"\"\n",
    "Update the nodes.\n",
    "\"\"\"\n",
    "function ϕᵛ(vᵢ, ēᵢ, u)\n",
    "    # ex: for inputs of vectors,\n",
    "    #     concatenate and parametrize\n",
    "    #     with a DNN\n",
    "    # TODO\n",
    "    return vᵢ\n",
    "end"
   ]
  },
  {
   "cell_type": "code",
   "execution_count": null,
   "metadata": {},
   "outputs": [],
   "source": []
  }
 ],
 "metadata": {
  "kernelspec": {
   "display_name": "Julia 0.6.2",
   "language": "julia",
   "name": "julia-0.6"
  },
  "language_info": {
   "file_extension": ".jl",
   "mimetype": "application/julia",
   "name": "julia",
   "version": "0.6.2"
  }
 },
 "nbformat": 4,
 "nbformat_minor": 2
}
