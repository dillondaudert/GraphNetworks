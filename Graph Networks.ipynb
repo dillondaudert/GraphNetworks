{
 "cells": [
  {
   "cell_type": "markdown",
   "metadata": {},
   "source": [
    "# Graph Network Block\n",
    "This is a simple implementation of the graph network block proposed in [Rational inductive biases, deep learning, and graph networks. Battaglia *et al*, 2018.](https://arxiv.org/pdf/1806.01261.pdf)\n",
    "\n",
    "## Definitions\n",
    "A \"graph\" is defined as a directed, attributed multi-graph with a global attribute.\n",
    "  - A node is denoted $\\mathbf{v}_i$\n",
    "  - An edge is denoted $\\mathbf{e}_k$\n",
    "  - The global attribute is $\\mathbf{u}$\n",
    "  - $s_k$ and $r_k$ indicate the indices of the sender and receiver nodes.\n",
    "  \n",
    "![multigraph](./multigraph.png)"
   ]
  },
  {
   "cell_type": "markdown",
   "metadata": {},
   "source": [
    "A *graph* is a 3-tuple $G = (\\mathbf{u}, V, E)$. The $\\mathbf{u}$ is the global attribute, $V = \\{\\mathbf{u}_i\\}_{i=1:N_v}$ is the set of vertices, $E = \\{(\\mathbf{e}_k, r_k, s_k)\\}_{k=1:N_e}$.\n",
    "\n",
    "## Internal Structures\n",
    "A GN block contains 3 updates functions, $\\phi$,\n",
    "$$\n",
    "\\begin{align}\n",
    "\\mathbf{e\\prime}_k & = \\phi^e(\\mathbf{e}_k, \\mathbf{v}_{r_k}, \\mathbf{v}_{s_k}, \\mathbf{u})\n",
    "\\\\\n",
    "\\mathbf{v\\prime}_i & = \\phi^v(\\mathbf{\\bar e\\prime}_i, \\mathbf{v}_i, \\mathbf{u})\n",
    "\\\\\n",
    "\\mathbf{u\\prime} & = \\phi^u(\\mathbf{\\bar e\\prime}, \\mathbf{\\bar v\\prime}, \\mathbf{u})\n",
    "\\end{align}\n",
    "$$\n",
    "and 3 aggregation functions, $\\rho$,\n",
    "$$\n",
    "\\begin{align}\n",
    "\\mathbf{\\bar e\\prime}_i & = \\rho^{e \\rightarrow v}(E\\prime_i) \\\\\n",
    "\\mathbf{\\bar e\\prime} & = \\rho^{e \\rightarrow u}(E\\prime) \\\\\n",
    "\\mathbf{\\bar v\\prime} & = \\rho^{v \\rightarrow u}(V\\prime) \\\\\n",
    "\\end{align}\n",
    "$$\n",
    "where $E\\prime_i = \\{(e\\prime_k, r_k, s_k)\\}_{r_k=i,k=1:N_e}$, $V\\prime = \\{v\\prime_i\\}_{i=1:N_v}$, and $E\\prime = \\cup_iE\\prime_i = \\{(e\\prime_k, r_k, s_k)\\}_{k=1:N_e}$.\n",
    "\n",
    "$\\phi^e$ is mapped across all edges, $\\phi^v$ is mapped across all nodes, and $\\phi^u$ is applied once as a global update. The $\\rho$ functions all take a set as input and reduce it to a single element which represents the aggregate information. The $\\rho$ functions must be invariant to permutations of their inputs, and should take a variable number of arguments."
   ]
  },
  {
   "cell_type": "code",
   "execution_count": null,
   "metadata": {},
   "outputs": [],
   "source": [
    "# GraphNetwork struct\n",
    "# - Needs to initialize the ϕ transition weights\n",
    "# - Each ϕ is basically a dense neural network, but could be multiple layers\n",
    "# - Each ρ on the other hand is a function that operates on a set; this could potentially\n",
    "#   include parameters / weights...\n",
    "# Start small: Simplest ρ and ϕ functions\n"
   ]
  },
  {
   "cell_type": "code",
   "execution_count": 2,
   "metadata": {},
   "outputs": [
    {
     "name": "stderr",
     "output_type": "stream",
     "text": [
      "\u001b[1m\u001b[36mINFO: \u001b[39m\u001b[22m\u001b[36mRecompiling stale cache file C:\\Users\\dillo\\AppData\\Local\\JuliaPro-0.6.1.1\\pkgs-0.6.1.1\\lib\\v0.6\\DataFlow.ji for module DataFlow.\n",
      "\u001b[39m\u001b[1m\u001b[36mINFO: \u001b[39m\u001b[22m\u001b[36mRecompiling stale cache file C:\\Users\\dillo\\AppData\\Local\\JuliaPro-0.6.1.1\\pkgs-0.6.1.1\\lib\\v0.6\\Flux.ji for module Flux.\n",
      "\u001b[39m"
     ]
    }
   ],
   "source": [
    "using Flux\n",
    "using Flux.Tracker"
   ]
  },
  {
   "cell_type": "code",
   "execution_count": 26,
   "metadata": {},
   "outputs": [
    {
     "data": {
      "text/plain": [
       "g"
      ]
     },
     "execution_count": 26,
     "metadata": {},
     "output_type": "execute_result"
    }
   ],
   "source": [
    "struct GN\n",
    "    Wₑ\n",
    "    bₑ\n",
    "    Wᵥ\n",
    "    bᵥ\n",
    "    Wᵤ\n",
    "    bᵤ\n",
    "end\n",
    "# Create the variables for the Graph Network block\n",
    "GN(edge_units, node_units, global_units) = GN(param(randn(edge_units+2*node_units+global_units, edge_units)), \n",
    "                                              param(zeros(1, edge_units)), \n",
    "                                              param(randn(edge_units+node_units+global_units, node_units)), \n",
    "                                              param(zeros(1, node_units)),\n",
    "                                              param(randn(edge_units+node_units+global_units, global_units)), \n",
    "                                              param(zeros(1, global_units)))\n",
    "\"\"\"\n",
    "graph network block\n",
    "E is an array of triples=(i, j, e) indicates the \n",
    "    indicates for the sender, receiver nodes for\n",
    "    an edge, and the edge attributes\n",
    "V is an array [[values]] where each element i\n",
    "    of the array representes the attributes for\n",
    "    node i.\n",
    "u is an array of attributes.\n",
    "\"\"\"\n",
    "function (g::GN)(E, V, u)\n",
    "    # compute edge updates\n",
    "    print(\"E size coming in: \", size(E[1][3]))\n",
    "    E′ = [(i, j, ϕᵉ(g, eₖ, V[[i],:], V[[j],:], u)) for (i, j, eₖ) in E]\n",
    "    print(\"E size coming out: \", size(E′[1][3]))\n",
    "    # aggregate per-node edge attributes\n",
    "    ēᵛ = ρᵛ(E′, V)\n",
    "    # compute node updates\n",
    "    V′ = vcat([ϕᵛ(g, V[[i],:], ēᵛ[[i],:], u) for i in 1:size(V)[1]])\n",
    "    # aggregate edge attributes\n",
    "    ē = ρᵉ(E′)\n",
    "    # aggregate node attributes\n",
    "    v̄ = ρᵘ(V′)\n",
    "    # compute updated global attribute\n",
    "    u′ = ϕᵘ(ē, v̄, u)\n",
    "    \n",
    "    return (E′, V′, u′)\n",
    "end"
   ]
  },
  {
   "cell_type": "code",
   "execution_count": 22,
   "metadata": {},
   "outputs": [
    {
     "data": {
      "text/plain": [
       "ϕᵉ"
      ]
     },
     "execution_count": 22,
     "metadata": {},
     "output_type": "execute_result"
    }
   ],
   "source": [
    "\"\"\"\n",
    "Update an edge\n",
    "\"\"\"\n",
    "function ϕᵉ(g::GN, eₖ, v₁, v₂, u)\n",
    "    # right now, the input vectors are row vectors\n",
    "    x = hcat(eₖ, v₁, v₂, u)\n",
    "    eₖ′ = x * g.Wₑ .+ g.bₑ\n",
    "    return eₖ′\n",
    "end"
   ]
  },
  {
   "cell_type": "code",
   "execution_count": 23,
   "metadata": {},
   "outputs": [
    {
     "data": {
      "text/plain": [
       "ϕᵛ"
      ]
     },
     "execution_count": 23,
     "metadata": {},
     "output_type": "execute_result"
    }
   ],
   "source": [
    "\"\"\"\n",
    "Update the nodes.\n",
    "\"\"\"\n",
    "function ϕᵛ(g::GN, vᵢ, ēᵢ, u)\n",
    "    x = hcat(vᵢ, ēᵢ, u)\n",
    "    vᵢ′ = x * g.Wᵥ .+ g.bᵥ\n",
    "    \n",
    "    return vᵢ′\n",
    "end"
   ]
  },
  {
   "cell_type": "code",
   "execution_count": 24,
   "metadata": {},
   "outputs": [
    {
     "data": {
      "text/plain": [
       "ϕᵘ"
      ]
     },
     "execution_count": 24,
     "metadata": {},
     "output_type": "execute_result"
    }
   ],
   "source": [
    "\"\"\"\n",
    "Update the global state attribute.\n",
    "\"\"\"\n",
    "function ϕᵘ(g::GN, ē, v̄, u)\n",
    "    x = hcat(ē, v̄, u)\n",
    "    u′ = x * g.Wᵤ .+ g.bᵤ\n",
    "    return u′\n",
    "end"
   ]
  },
  {
   "cell_type": "code",
   "execution_count": 39,
   "metadata": {},
   "outputs": [
    {
     "name": "stdout",
     "output_type": "stream",
     "text": [
      "In ρᵛ, ēᵛ: (2, 2)In ρᵛ, E′: Tuple{Int64,Int64,Array{Float64,2}}[(1, 2, [5.0 0.0]), (2, 2, [3.0 0.0])]"
     ]
    },
    {
     "data": {
      "text/plain": [
       "true"
      ]
     },
     "execution_count": 39,
     "metadata": {},
     "output_type": "execute_result"
    }
   ],
   "source": [
    "\"\"\"\n",
    "Aggregate edge attributes for each node.\n",
    "\"\"\"\n",
    "function ρᵛ(E′, V)\n",
    "    # ex: calculate the sum of\n",
    "    #     the edges going TO each node i\n",
    "    ēᵛ = zeros(size(V)[1], size(E′[1][3])[2])\n",
    "    print(\"In ρᵛ, ēᵛ: \", size(ēᵛ))\n",
    "    print(\"In ρᵛ, E′: \", E′)\n",
    "    for (i, j, eₖ) in E′\n",
    "        ēᵛ[[j],:] .+= eₖ\n",
    "    end\n",
    "    return ēᵛ\n",
    "end\n",
    "# test ρᵛ\n",
    "V = [0.; 0.]\n",
    "E = [(1, 2, [5. 0.]), (2, 2, [3. 0.])]\n",
    "ēᵛ = [0. 0.; 8. 0.]\n",
    "out = ρᵛ(E, V)\n",
    "all(ēᵛ .== out)"
   ]
  },
  {
   "cell_type": "code",
   "execution_count": 8,
   "metadata": {},
   "outputs": [
    {
     "data": {
      "text/plain": [
       "true"
      ]
     },
     "execution_count": 8,
     "metadata": {},
     "output_type": "execute_result"
    }
   ],
   "source": [
    "\"\"\"\n",
    "Aggregate the edge attributes globally.\n",
    "\"\"\"\n",
    "function ρᵉ(E′)\n",
    "    # ex: calculate the mean of all edges\n",
    "    return mean((e[3] for e in E′))\n",
    "end\n",
    "# test ρᵉ\n",
    "E = [(1, 2, [5. -2.]), (2, 2, [3. -2.])]\n",
    "ē = [4. -2.]\n",
    "out = ρᵉ(E)\n",
    "all(ē .== out)"
   ]
  },
  {
   "cell_type": "code",
   "execution_count": 9,
   "metadata": {},
   "outputs": [
    {
     "data": {
      "text/plain": [
       "true"
      ]
     },
     "execution_count": 9,
     "metadata": {},
     "output_type": "execute_result"
    }
   ],
   "source": [
    "\"\"\"\n",
    "Aggregate all the node attributes globally.\n",
    "\"\"\"\n",
    "function ρᵘ(V′)\n",
    "    # ex: sum all the attributes of the nodes\n",
    "    return sum(V′, 1)\n",
    "end\n",
    "# test ρᵘ\n",
    "V = [0. 10. 3.; 0. -2. -3.]\n",
    "v̄= [0. 8. 0.]\n",
    "out = ρᵘ(V)\n",
    "all(v̄ .== out)"
   ]
  },
  {
   "cell_type": "code",
   "execution_count": 40,
   "metadata": {},
   "outputs": [
    {
     "name": "stdout",
     "output_type": "stream",
     "text": [
      "E size coming in: (1, 2)E size coming out: (1, 2)In ρᵛ, ēᵛ: (3, 2)In ρᵛ, E′: Tuple{Int64,Int64,TrackedArray{…,Array{Float64,2}}}[(1, 3, param([8.61275 2.71577])), (2, 3, param([-10.6543 -3.02736]))]"
     ]
    },
    {
     "ename": "LoadError",
     "evalue": "\u001b[91mMethodError: Cannot `convert` an object of type TrackedArray{…,Array{Float64,0}} to an object of type Float64\nThis may have arisen from a call to the constructor Float64(...),\nsince type constructors fall back to convert methods.\u001b[39m",
     "output_type": "error",
     "traceback": [
      "\u001b[91mMethodError: Cannot `convert` an object of type TrackedArray{…,Array{Float64,0}} to an object of type Float64\nThis may have arisen from a call to the constructor Float64(...),\nsince type constructors fall back to convert methods.\u001b[39m",
      "",
      "Stacktrace:",
      " [1] \u001b[1msetindex!\u001b[22m\u001b[22m at \u001b[1m.\\subarray.jl:208\u001b[22m\u001b[22m [inlined]",
      " [2] \u001b[1m_setindex!\u001b[22m\u001b[22m at \u001b[1m.\\abstractarray.jl:992\u001b[22m\u001b[22m [inlined]",
      " [3] \u001b[1msetindex!\u001b[22m\u001b[22m at \u001b[1m.\\abstractarray.jl:968\u001b[22m\u001b[22m [inlined]",
      " [4] \u001b[1mmacro expansion\u001b[22m\u001b[22m at \u001b[1m.\\broadcast.jl:154\u001b[22m\u001b[22m [inlined]",
      " [5] \u001b[1mmacro expansion\u001b[22m\u001b[22m at \u001b[1m.\\simdloop.jl:73\u001b[22m\u001b[22m [inlined]",
      " [6] \u001b[1mmacro expansion\u001b[22m\u001b[22m at \u001b[1m.\\broadcast.jl:147\u001b[22m\u001b[22m [inlined]",
      " [7] \u001b[1m_broadcast!\u001b[22m\u001b[22m at \u001b[1m.\\broadcast.jl:139\u001b[22m\u001b[22m [inlined]",
      " [8] \u001b[1mbroadcast_c!\u001b[22m\u001b[22m at \u001b[1m.\\broadcast.jl:211\u001b[22m\u001b[22m [inlined]",
      " [9] \u001b[1mbroadcast!\u001b[22m\u001b[22m at \u001b[1m.\\broadcast.jl:204\u001b[22m\u001b[22m [inlined]",
      " [10] \u001b[1mρᵛ\u001b[22m\u001b[22m\u001b[1m(\u001b[22m\u001b[22m::Array{Tuple{Int64,Int64,TrackedArray{…,Array{Float64,2}}},1}, ::Array{Float64,1}\u001b[1m)\u001b[22m\u001b[22m at \u001b[1m.\\In[39]:11\u001b[22m\u001b[22m",
      " [11] \u001b[1m(::GN)\u001b[22m\u001b[22m\u001b[1m(\u001b[22m\u001b[22m::Array{Tuple{Int64,Int64,Array{Float64,2}},1}, ::Array{Float64,1}, ::Array{Float64,1}\u001b[1m)\u001b[22m\u001b[22m at \u001b[1m.\\In[26]:32\u001b[22m\u001b[22m",
      " [12] \u001b[1minclude_string\u001b[22m\u001b[22m\u001b[1m(\u001b[22m\u001b[22m::String, ::String\u001b[1m)\u001b[22m\u001b[22m at \u001b[1m.\\loading.jl:522\u001b[22m\u001b[22m"
     ]
    }
   ],
   "source": [
    "# an example graph where the target of the\n",
    "#    network is the sum the two nodes with edges\n",
    "#    leading into the final node.\n",
    "V = [3.; -5.; 0.]\n",
    "E = [(1, 3, [1. 0.]), (2, 3, [1. 0.])]\n",
    "u = [0.]\n",
    "V′= [0.; 0.; -2.]\n",
    "E′ = [(1, 3, [0. 1.]), (2, 3, [0. 1.])]\n",
    "u′ = [-2.]\n",
    "g = GN(2, 1, 1)\n",
    "Ê, V̂, û = g(E, V, u)\n",
    "println(V̂)\n",
    "println(Ê)\n",
    "println(û)"
   ]
  },
  {
   "cell_type": "code",
   "execution_count": null,
   "metadata": {},
   "outputs": [],
   "source": []
  }
 ],
 "metadata": {
  "kernelspec": {
   "display_name": "Julia 0.6.1",
   "language": "julia",
   "name": "julia-0.6"
  },
  "language_info": {
   "file_extension": ".jl",
   "mimetype": "application/julia",
   "name": "julia",
   "version": "0.6.1"
  }
 },
 "nbformat": 4,
 "nbformat_minor": 2
}
