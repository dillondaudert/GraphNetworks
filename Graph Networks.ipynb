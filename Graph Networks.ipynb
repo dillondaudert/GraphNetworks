{
 "cells": [
  {
   "cell_type": "markdown",
   "metadata": {},
   "source": [
    "# Graph Network Block\n",
    "This is a simple implementation of the graph network block proposed in [Rational inductive biases, deep learning, and graph networks. Battaglia *et al*, 2018.](https://arxiv.org/pdf/1806.01261.pdf)\n",
    "\n",
    "## Definitions\n",
    "A \"graph\" is defined as a directed, attributed multi-graph with a global attribute.\n",
    "  - A node is denoted $\\mathbf{v}_i$\n",
    "  - An edge is denoted $\\mathbf{e}_k$\n",
    "  - The global attribute is $\\mathbf{u}$\n",
    "  - $s_k$ and $r_k$ indicate the indices of the sender and receiver nodes.\n",
    "  \n",
    "![multigraph](./multigraph.png)"
   ]
  },
  {
   "cell_type": "markdown",
   "metadata": {},
   "source": [
    "A *graph* is a 3-tuple $G = (\\mathbf{u}, V, E)$. The $\\mathbf{u}$ is the global attribute, $V = \\{\\mathbf{u}_i\\}_{i=1:N_v}$ is the set of vertices, $E = \\{(\\mathbf{e}_k, r_k, s_k)\\}_{k=1:N_e}$.\n",
    "\n",
    "## Internal Structures\n",
    "A GN block contains 3 updates functions, $\\phi$,\n",
    "$$\n",
    "\\begin{align}\n",
    "\\mathbf{e\\prime}_k & = \\phi^e(\\mathbf{e}_k, \\mathbf{v}_{r_k}, \\mathbf{v}_{s_k}, \\mathbf{u})\n",
    "\\\\\n",
    "\\mathbf{v\\prime}_i & = \\phi^v(\\mathbf{\\bar e\\prime}_i, \\mathbf{v}_i, \\mathbf{u})\n",
    "\\\\\n",
    "\\mathbf{u\\prime} & = \\phi^u(\\mathbf{\\bar e\\prime}, \\mathbf{\\bar v\\prime}, \\mathbf{u})\n",
    "\\end{align}\n",
    "$$\n",
    "and 3 aggregation functions, $\\rho$,\n",
    "$$\n",
    "\\begin{align}\n",
    "\\mathbf{\\bar e\\prime}_i & = \\rho^{e \\rightarrow v}(E\\prime_i) \\\\\n",
    "\\mathbf{\\bar e\\prime} & = \\rho^{e \\rightarrow u}(E\\prime) \\\\\n",
    "\\mathbf{\\bar v\\prime} & = \\rho^{v \\rightarrow u}(V\\prime) \\\\\n",
    "\\end{align}\n",
    "$$\n",
    "where $E\\prime_i = \\{(e\\prime_k, r_k, s_k)\\}_{r_k=i,k=1:N_e}$, $V\\prime = \\{v\\prime_i\\}_{i=1:N_v}$, and $E\\prime = \\cup_iE\\prime_i = \\{(e\\prime_k, r_k, s_k)\\}_{k=1:N_e}$.\n",
    "\n",
    "$\\phi^e$ is mapped across all edges, $\\phi^v$ is mapped across all nodes, and $\\phi^u$ is applied once as a global update. The $\\rho$ functions all take a set as input and reduce it to a single element which represents the aggregate information. The $\\rho$ functions must be invariant to permutations of their inputs, and should take a variable number of arguments."
   ]
  },
  {
   "cell_type": "code",
   "execution_count": 1,
   "metadata": {},
   "outputs": [],
   "source": [
    "# GraphNetwork struct\n",
    "# - Needs to initialize the ϕ transition weights\n",
    "# - Each ϕ is basically a dense neural network, but could be multiple layers\n",
    "# - Each ρ on the other hand is a function that operates on a set; this could potentially\n",
    "#   include parameters / weights...\n",
    "# Start small: Simplest ρ and ϕ functions\n"
   ]
  },
  {
   "cell_type": "code",
   "execution_count": 2,
   "metadata": {},
   "outputs": [],
   "source": [
    "using Flux\n",
    "using Flux.Tracker"
   ]
  },
  {
   "cell_type": "code",
   "execution_count": 3,
   "metadata": {},
   "outputs": [
    {
     "data": {
      "text/plain": [
       "mapchildren (generic function with 7 methods)"
      ]
     },
     "execution_count": 3,
     "metadata": {},
     "output_type": "execute_result"
    }
   ],
   "source": [
    "struct GN\n",
    "    edge_units\n",
    "    node_units\n",
    "    global_units\n",
    "    Wₑ\n",
    "    bₑ\n",
    "    Wᵥ\n",
    "    bᵥ\n",
    "    Wᵤ\n",
    "    bᵤ\n",
    "end\n",
    "# Create the variables for the Graph Network block\n",
    "GN(edge_units, node_units, global_units) = GN(edge_units, node_units, global_units,\n",
    "                                              param(randn(edge_units, edge_units+2*node_units+global_units)), \n",
    "                                              param(zeros(edge_units)), \n",
    "                                              param(randn(node_units, edge_units+node_units+global_units)), \n",
    "                                              param(zeros(node_units)),\n",
    "                                              param(randn(global_units, edge_units+node_units+global_units)), \n",
    "                                              param(zeros(global_units)))\n",
    "\"\"\"\n",
    "graph network block\n",
    "E is an array of triples=(i, j, e) indicates the \n",
    "    indicates for the sender, receiver nodes for\n",
    "    an edge, and the edge attributes\n",
    "V is an array [[values]] where each element i\n",
    "    of the array representes the attributes for\n",
    "    node i.\n",
    "u is an array of attributes.\n",
    "\"\"\"\n",
    "function (g::GN)(x)\n",
    "    E, V, u = x\n",
    "    # compute edge updates\n",
    "    E′ = [(i, j, ϕᵉ(g, eₖ, V[i], V[j], u)) for (i, j, eₖ) in E]\n",
    "    # aggregate per-node edge attributes\n",
    "    ēᵛ = ρᵛ(E′, V)\n",
    "    # compute node updates\n",
    "    V′ = vcat([ϕᵛ(g, V[i], ēᵛ[i], u) for i in 1:size(V)[1]])\n",
    "    # aggregate edge attributes\n",
    "    ē = ρᵉ(E′)\n",
    "    # aggregate node attributes\n",
    "    v̄ = ρᵘ(V′)\n",
    "    # compute updated global attribute\n",
    "    u′ = ϕᵘ(g, ē, v̄, u)\n",
    "    return (E′, V′, u′)\n",
    "end\n",
    "Flux.treelike(GN)"
   ]
  },
  {
   "cell_type": "code",
   "execution_count": 4,
   "metadata": {},
   "outputs": [
    {
     "data": {
      "text/plain": [
       "ϕᵉ"
      ]
     },
     "execution_count": 4,
     "metadata": {},
     "output_type": "execute_result"
    }
   ],
   "source": [
    "\"\"\"\n",
    "Update an edge\n",
    "\"\"\"\n",
    "function ϕᵉ(g::GN, eₖ, v₁, v₂, u) \n",
    "    x = vcat(eₖ, vcat(v₁, vcat(v₂, u)))\n",
    "    eₖ′ = g.Wₑ * x + g.bₑ\n",
    "    return eₖ′\n",
    "end"
   ]
  },
  {
   "cell_type": "code",
   "execution_count": 5,
   "metadata": {},
   "outputs": [
    {
     "data": {
      "text/plain": [
       "ϕᵛ"
      ]
     },
     "execution_count": 5,
     "metadata": {},
     "output_type": "execute_result"
    }
   ],
   "source": [
    "\"\"\"\n",
    "Update the nodes.\n",
    "\"\"\"\n",
    "function ϕᵛ(g::GN, vᵢ, ēᵢ, u)\n",
    "    x = vcat(vᵢ, vcat(ēᵢ, u))\n",
    "    vᵢ′ = g.Wᵥ * x + g.bᵥ\n",
    "    return vᵢ′\n",
    "end"
   ]
  },
  {
   "cell_type": "code",
   "execution_count": 6,
   "metadata": {},
   "outputs": [
    {
     "data": {
      "text/plain": [
       "ϕᵘ"
      ]
     },
     "execution_count": 6,
     "metadata": {},
     "output_type": "execute_result"
    }
   ],
   "source": [
    "\"\"\"\n",
    "Update the global state attribute.\n",
    "\"\"\"\n",
    "function ϕᵘ(g::GN, ē, v̄, u)\n",
    "    x = vcat(ē, vcat(v̄, u))\n",
    "    u′ = g.Wᵤ * x + g.bᵤ\n",
    "    return u′\n",
    "end"
   ]
  },
  {
   "cell_type": "code",
   "execution_count": 7,
   "metadata": {},
   "outputs": [
    {
     "data": {
      "text/plain": [
       "true"
      ]
     },
     "execution_count": 7,
     "metadata": {},
     "output_type": "execute_result"
    }
   ],
   "source": [
    "\"\"\"\n",
    "Aggregate edge attributes for each node.\n",
    "\"\"\"\n",
    "function ρᵛ(E′, V)\n",
    "    # outer loop: each target node j\n",
    "    # inner loop: sum incoming edges (i, j) for j\n",
    "    ēᵛ = [reduce(+, zeros(E′[1][3]), eₖ for (i, j_, eₖ) in E′ if j_ == j) for j in 1:size(V, 1)]\n",
    "    return ēᵛ\n",
    "end\n",
    "# test ρᵛ\n",
    "V = [[0.], [0.]]\n",
    "E = [(1, 2, [5., 0.]), (2, 2, [3., 0.])]\n",
    "ēᵛ = [[0., 0.], [8., 0.]]\n",
    "out = ρᵛ(E, V)\n",
    "out == ēᵛ"
   ]
  },
  {
   "cell_type": "code",
   "execution_count": 8,
   "metadata": {},
   "outputs": [
    {
     "data": {
      "text/plain": [
       "true"
      ]
     },
     "execution_count": 8,
     "metadata": {},
     "output_type": "execute_result"
    }
   ],
   "source": [
    "\"\"\"\n",
    "Aggregate the edge attributes globally.\n",
    "\"\"\"\n",
    "function ρᵉ(E′)\n",
    "    # ex: calculate the mean of all edges\n",
    "    return mean((e[3] for e in E′))\n",
    "end\n",
    "# test ρᵉ\n",
    "E = [(1, 2, [5., -2.]), (2, 2, [3., -2.])]\n",
    "ē = [4., -2.]\n",
    "out = ρᵉ(E)\n",
    "all(ē .== out)"
   ]
  },
  {
   "cell_type": "code",
   "execution_count": 9,
   "metadata": {},
   "outputs": [
    {
     "data": {
      "text/plain": [
       "true"
      ]
     },
     "execution_count": 9,
     "metadata": {},
     "output_type": "execute_result"
    }
   ],
   "source": [
    "\"\"\"\n",
    "Aggregate all the node attributes globally.\n",
    "\"\"\"\n",
    "function ρᵘ(V′)\n",
    "    # ex: sum all the attributes of the nodes\n",
    "    return sum((V′[i] for i = 1:size(V′, 1)))\n",
    "end\n",
    "# test ρᵘ\n",
    "V = [[0., 10., 3.], [0., -2., -3.]]\n",
    "v̄= [0., 8., 0.]\n",
    "out = ρᵘ(V)\n",
    "all(v̄ .== out)"
   ]
  },
  {
   "cell_type": "code",
   "execution_count": 10,
   "metadata": {},
   "outputs": [
    {
     "data": {
      "text/plain": [
       "loss (generic function with 1 method)"
      ]
     },
     "execution_count": 10,
     "metadata": {},
     "output_type": "execute_result"
    }
   ],
   "source": [
    "\"\"\"\n",
    "Calculate the loss for a graph.\n",
    "\"\"\"\n",
    "function piecewise_loss(g::GN, x, y)\n",
    "    (Ê, V̂, û) = g(g(x))\n",
    "    E, V, u = y\n",
    "    # edge loss\n",
    "    Lₑ = sum((E[i][3] .- Ê[i][3]).^2 for i in 1:size(E, 1))\n",
    "    Lᵥ = sum((V[i] .- V̂[i]).^2 for i in 1:size(V, 1))\n",
    "    Lᵤ = sum((u .- û).^2)\n",
    "    return Lₑ, Lᵥ, Lᵤ\n",
    "end\n",
    "function loss(g::GN, x, y)\n",
    "    Lₑ, Lᵥ, Lᵤ = piecewise_loss(g, x, y)\n",
    "    return sum(Lₑ) + sum(Lᵥ) + sum(Lᵤ)\n",
    "end\n"
   ]
  },
  {
   "cell_type": "code",
   "execution_count": 15,
   "metadata": {},
   "outputs": [
    {
     "name": "stderr",
     "output_type": "stream",
     "text": [
      "WARNING: Base.repeated is deprecated, use Base.Iterators"
     ]
    },
    {
     "data": {
      "text/plain": [
       "(::#58) (generic function with 1 method)"
      ]
     },
     "execution_count": 15,
     "metadata": {},
     "output_type": "execute_result"
    },
    {
     "name": "stderr",
     "output_type": "stream",
     "text": [
      ".repeated instead.\n",
      "  likely near In[15]:16\n"
     ]
    }
   ],
   "source": [
    "\n",
    "V = [[3.,], [-5.,], [0.,]]\n",
    "E = [(1, 3, [1., 0.]), (2, 3, [-2., -1.])]\n",
    "u = [0.]\n",
    "x = (E, V, u)\n",
    "\n",
    "V′= [[3.], [-5.], [12.]]\n",
    "E′ = [(1, 3, [1., 0.]), (2, 3, [-2., -1.])]\n",
    "u′ = [12.,]\n",
    "y = (E′, V′, u′)\n",
    "\n",
    "g = GN(2, 1, 1)\n",
    "\n",
    "dataset = repeated((x, y), 20000)\n",
    "evalcb = () -> @show(piecewise_loss(g, x, y))\n",
    "opt = ADAM(params(g))"
   ]
  },
  {
   "cell_type": "code",
   "execution_count": 16,
   "metadata": {},
   "outputs": [
    {
     "name": "stdout",
     "output_type": "stream",
     "text": [
      "piecewise_loss(g, x, y) = (param([14.5044, 84.0105]), param([1106.58]), param(653.14))\n",
      "piecewise_loss(g, x, y) = (param([7.02636, 8.82641]), param([60.3937]), param(11.3887))\n",
      "piecewise_loss(g, x, y) = (param([3.88931, 7.80544]), param([9.77416]), param(0.374435))\n",
      "piecewise_loss(g, x, y) = (param([2.12563, 7.521]), param([1.7579]), param(0.0322459))\n",
      "piecewise_loss(g, x, y) = (param([1.77897, 7.40941]), param([1.11471]), param(0.00608632))\n",
      "piecewise_loss(g, x, y) = (param([1.61444, 7.03967]), param([0.970088]), param(0.00233593))\n",
      "piecewise_loss(g, x, y) = (param([1.46557, 6.4733]), param([0.863143]), param(0.00184785))\n",
      "piecewise_loss(g, x, y) = (param([1.30978, 5.76518]), param([0.743509]), param(0.00216715))\n",
      "piecewise_loss(g, x, y) = (param([1.13482, 4.93591]), param([0.614246]), param(0.00292799))\n",
      "piecewise_loss(g, x, y) = (param([0.926159, 3.98774]), param([0.483445]), param(0.0039915))\n",
      "piecewise_loss(g, x, y) = (param([0.685601, 2.99452]), param([0.363819]), param(0.00506813))\n",
      "piecewise_loss(g, x, y) = (param([0.423192, 1.99657]), param([0.255887]), param(0.00579883))\n",
      "piecewise_loss(g, x, y) = (param([0.196317, 1.10441]), param([0.160625]), param(0.00562145))\n",
      "piecewise_loss(g, x, y) = (param([0.0579731, 0.43798]), param([0.0777888]), param(0.00385998))\n",
      "piecewise_loss(g, x, y) = (param([0.00918939, 0.102147]), param([0.0225645]), param(0.00140987))\n",
      "piecewise_loss(g, x, y) = (param([0.000744628, 0.0118084]), param([0.00304795]), param(0.000215479))\n",
      "piecewise_loss(g, x, y) = (param([2.80076e-5, 0.000540825]), param([0.000149764]), param(1.11402e-5))\n",
      "piecewise_loss(g, x, y) = (param([3.72406e-7, 7.59719e-6]), param([2.14165e-6]), param(1.61345e-7))\n",
      "piecewise_loss(g, x, y) = (param([8.59717e-10, 1.76661e-8]), param([4.99154e-9]), param(3.7666e-10))\n",
      "piecewise_loss(g, x, y) = (param([1.76698e-13, 3.63222e-12]), param([1.0264e-12]), param(7.74578e-14))\n",
      "piecewise_loss(g, x, y) = (param([1.1053e-18, 2.27237e-17]), param([6.42142e-18]), param(4.84801e-19))\n",
      "piecewise_loss(g, x, y) = (param([3.08409e-5, 8.55059e-7]), param([0.000203256]), param(0.000116427))\n",
      "piecewise_loss(g, x, y) = (param([3.49245e-13, 7.60018e-11]), param([4.56447e-11]), param(2.57417e-11))\n",
      "piecewise_loss(g, x, y) = (param([4.2968e-15, 1.35023e-13]), param([3.96674e-14]), param(3.84941e-15))\n",
      "piecewise_loss(g, x, y) = (param([7.09032e-5, 4.59934e-7]), param([0.000385685]), param(0.000204792))\n",
      "piecewise_loss(g, x, y) = (param([1.71749e-13, 3.92878e-13]), param([7.4624e-13]), param(1.8412e-13))\n",
      "piecewise_loss(g, x, y) = (param([7.27563e-20, 1.74154e-22]), param([3.61903e-19]), param(1.85317e-19))\n",
      "piecewise_loss(g, x, y) = (param([2.4959e-8, 2.76674e-10]), param([1.16012e-7]), param(5.97991e-8))\n",
      "piecewise_loss(g, x, y) = (param([8.90318e-17, 6.79476e-19]), param([3.93045e-16]), param(1.97694e-16))\n",
      "piecewise_loss(g, x, y) = (param([4.68159e-11, 7.82897e-14]), param([2.04264e-10]), param(1.00025e-10))\n",
      "piecewise_loss(g, x, y) = (param([6.4773e-11, 3.14088e-13]), param([2.71194e-10]), param(1.34981e-10))\n",
      "piecewise_loss(g, x, y) = (param([1.48324e-21, 8.66672e-23]), param([6.65818e-21]), param(3.63226e-21))\n"
     ]
    }
   ],
   "source": [
    "Flux.train!((x, y) -> loss(g, x, y), dataset, opt, cb=Flux.throttle(evalcb, .5))"
   ]
  },
  {
   "cell_type": "code",
   "execution_count": 17,
   "metadata": {},
   "outputs": [
    {
     "name": "stdout",
     "output_type": "stream",
     "text": [
      "Any[param([-0.866753 -1.36886 -1.05818 -0.15445 -1.18158; -0.168985 0.735997 -0.0914339 0.0569512 -0.324104]), param([1.00077, -0.425651]), param([1.0 1.27074 -2.32485 -0.934552]), param([-0.277853]), param([-2.74842 -0.603706 1.18517 -0.543579]), param([-1.85098])]"
     ]
    }
   ],
   "source": [
    "print(params(g))"
   ]
  },
  {
   "cell_type": "code",
   "execution_count": 18,
   "metadata": {},
   "outputs": [
    {
     "name": "stdout",
     "output_type": "stream",
     "text": [
      "(Tuple{Int64,Int64,TrackedArray{…,Array{Float64,1}}}[(1, 3, param([1.0, -2.54979e-9])), (2, 3, param([-2.0, -1.0]))], TrackedArray{…,Array{Float64,1}}[param([3.0]), param([-5.0]), param([12.0])], param([12.0]))"
     ]
    }
   ],
   "source": [
    "print(g(g(x)))"
   ]
  },
  {
   "cell_type": "code",
   "execution_count": null,
   "metadata": {},
   "outputs": [],
   "source": []
  }
 ],
 "metadata": {
  "kernelspec": {
   "display_name": "Julia 0.6.1",
   "language": "julia",
   "name": "julia-0.6"
  },
  "language_info": {
   "file_extension": ".jl",
   "mimetype": "application/julia",
   "name": "julia",
   "version": "0.6.1"
  }
 },
 "nbformat": 4,
 "nbformat_minor": 2
}
